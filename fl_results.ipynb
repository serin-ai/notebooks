{
 "cells": [
  {
   "cell_type": "code",
   "execution_count": null,
   "id": "4cec90ed-1b9c-465e-8b71-209faa0a2701",
   "metadata": {},
   "outputs": [],
   "source": [
    "import json\n",
    "import numpy as np\n",
    "import matplotlib.pyplot as plt"
   ]
  },
  {
   "cell_type": "code",
   "execution_count": null,
   "id": "ad8c377a-46c3-4ca0-9883-5d461aa0f817",
   "metadata": {},
   "outputs": [],
   "source": [
    "# Simulated Federated Learning Training Results\n",
    "rounds = list(range(1, 11))  # FL training rounds\n",
    "accuracy = np.round(np.linspace(50, 90, len(rounds)), 2)  # Simulated accuracy growth\n",
    "loss = np.round(np.linspace(1.5, 0.1, len(rounds)), 2)  # Simulated loss decrease"
   ]
  },
  {
   "cell_type": "code",
   "execution_count": null,
   "id": "50cc1a0b-8b10-4275-8ad5-d232c57774d8",
   "metadata": {},
   "outputs": [],
   "source": [
    "# Plot Accuracy and Loss\n",
    "plt.figure(figsize=(10, 4))\n",
    "plt.plot(rounds, accuracy, label=\"Accuracy (%)\", marker=\"o\", linestyle=\"-\")\n",
    "plt.plot(rounds, loss, label=\"Loss\", marker=\"s\", linestyle=\"--\", color=\"red\")\n",
    "plt.xlabel(\"Federated Learning Rounds\")\n",
    "plt.ylabel(\"Value\")\n",
    "plt.title(\"Federated Learning Training Progress\")\n",
    "plt.legend()\n",
    "plt.grid(True)\n",
    "plt.savefig(\"fl_results.png\")  # Save figure\n",
    "plt.show()"
   ]
  },
  {
   "cell_type": "code",
   "execution_count": null,
   "id": "8e5d62cc-2ab8-4615-824e-880384a918f5",
   "metadata": {},
   "outputs": [],
   "source": [
    "# Save results to JSON for Chart.js\n",
    "data = {\n",
    "    \"labels\": rounds,\n",
    "    \"datasets\": [\n",
    "        {\"label\": \"Accuracy (%)\", \"data\": accuracy.tolist(), \"borderColor\": \"blue\", \"backgroundColor\": \"rgba(0,0,255,0.2)\"},\n",
    "        {\"label\": \"Loss\", \"data\": loss.tolist(), \"borderColor\": \"red\", \"backgroundColor\": \"rgba(255,0,0,0.2)\"}\n",
    "    ]\n",
    "}"
   ]
  },
  {
   "cell_type": "code",
   "execution_count": null,
   "id": "59f21510-5940-45be-96c0-eec789a8642c",
   "metadata": {},
   "outputs": [],
   "source": [
    "with open(\"fl_results.json\", \"w\") as f:\n",
    "    json.dump(data, f, indent=4)"
   ]
  },
  {
   "cell_type": "code",
   "execution_count": null,
   "id": "09843f0b-5e97-4ab6-b1d0-be4be66d36b1",
   "metadata": {},
   "outputs": [],
   "source": [
    "print(\"✅ Training results saved to 'fl_results.json'\")"
   ]
  }
 ],
 "metadata": {
  "kernelspec": {
   "display_name": "Python 3 (ipykernel)",
   "language": "python",
   "name": "python3"
  },
  "language_info": {
   "codemirror_mode": {
    "name": "ipython",
    "version": 3
   },
   "file_extension": ".py",
   "mimetype": "text/x-python",
   "name": "python",
   "nbconvert_exporter": "python",
   "pygments_lexer": "ipython3",
   "version": "3.9.18"
  }
 },
 "nbformat": 4,
 "nbformat_minor": 5
}
